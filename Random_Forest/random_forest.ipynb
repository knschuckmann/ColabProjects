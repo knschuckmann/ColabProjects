{
 "metadata": {
  "language_info": {
   "codemirror_mode": {
    "name": "ipython",
    "version": 3
   },
   "file_extension": ".py",
   "mimetype": "text/x-python",
   "name": "python",
   "nbconvert_exporter": "python",
   "pygments_lexer": "ipython3",
   "version": "3.9.5"
  },
  "orig_nbformat": 2,
  "kernelspec": {
   "name": "python3",
   "display_name": "Python 3.9.5 64-bit ('test': conda)",
   "metadata": {
    "interpreter": {
     "hash": "ec1238c25bc00779cf6c0eb9dab4103c39fd851fb6b24d56ae1ca24e0135e956"
    }
   }
  }
 },
 "nbformat": 4,
 "nbformat_minor": 2,
 "cells": [
  {
   "source": [
    "# THis"
   ],
   "cell_type": "markdown",
   "metadata": {}
  },
  {
   "cell_type": "code",
   "execution_count": 1,
   "metadata": {},
   "outputs": [],
   "source": [
    "# import important libraries\n",
    "import numpy as np\n",
    "import pandas as pd\n",
    "from sklearn.model_selection import train_test_split\n",
    "from sklearn.ensemble import RandomForestRegressor\n",
    "from sklearn.preprocessing import OneHotEncoder"
   ]
  },
  {
   "cell_type": "code",
   "execution_count": 2,
   "metadata": {},
   "outputs": [
    {
     "output_type": "execute_result",
     "data": {
      "text/plain": [
       "  Country Relation Country Relation Vice Versa Origin Country  \\\n",
       "0            SE_CZ                       CZ_SE             SE   \n",
       "1            SK_RO                       RO_SK             SK   \n",
       "2            RO_SK                       SK_RO             RO   \n",
       "3            CZ_CZ                       CZ_CZ             CZ   \n",
       "4            CZ_DE                       DE_CZ             CZ   \n",
       "\n",
       "  Destination Country  GDP WB origin  GDP WB Destination  Lat Origin  \\\n",
       "0                  CZ       537610.0            243530.0    58.51761   \n",
       "1                  RO       104574.0            248716.0    48.82263   \n",
       "2                  SK       248716.0            104574.0    46.34595   \n",
       "3                  CZ       243530.0            243530.0    49.56757   \n",
       "4                  DE       243530.0           3806060.0    49.56757   \n",
       "\n",
       "   Lon Origin  Lat Destination  Lon Destination  ...  Rate 12999 - 13999 kg  \\\n",
       "0    13.45279         48.84433         17.09269  ...             520.910569   \n",
       "1    17.15524         46.34595         21.28440  ...             359.382475   \n",
       "2    21.28440         48.82263         17.15524  ...             484.880259   \n",
       "3    13.32155         48.84433         17.09269  ...             455.592568   \n",
       "4    13.32155         52.57444         13.35121  ...             647.958540   \n",
       "\n",
       "   Rate 13999 - 14999 kg  Rate 14999 - 15999 kg  Rate 15999 - 16999 kg  \\\n",
       "0             530.280069             540.947644             549.756274   \n",
       "1             370.085963             382.267561             389.734663   \n",
       "2             489.878669             495.629129             500.638597   \n",
       "3             529.531939             549.176915             563.945789   \n",
       "4             648.080548             648.908398             650.247414   \n",
       "\n",
       "   Rate 16999 - 17999 kg  Rate 17999 - 18999 kg  Rate 18999 - 19999 kg  \\\n",
       "0             558.933476             569.504737             579.554735   \n",
       "1             399.584689             410.469392             422.074447   \n",
       "2             505.002186             510.087815             514.566674   \n",
       "3             581.743642             598.717496             634.246293   \n",
       "4             648.361983             646.023037             647.597560   \n",
       "\n",
       "   Rate 20000-21499 kg  Rate 21500-22999 kg  Rate 23000-24499 kg  \n",
       "0           590.574761           594.701375           605.398711  \n",
       "1           429.496006           429.762900           440.098367  \n",
       "2           520.633220           519.983541           518.594831  \n",
       "3           674.204446           678.656907           690.868583  \n",
       "4           648.402944           651.182095           647.265194  \n",
       "\n",
       "[5 rows x 55 columns]"
      ],
      "text/html": "<div>\n<style scoped>\n    .dataframe tbody tr th:only-of-type {\n        vertical-align: middle;\n    }\n\n    .dataframe tbody tr th {\n        vertical-align: top;\n    }\n\n    .dataframe thead th {\n        text-align: right;\n    }\n</style>\n<table border=\"1\" class=\"dataframe\">\n  <thead>\n    <tr style=\"text-align: right;\">\n      <th></th>\n      <th>Country Relation</th>\n      <th>Country Relation Vice Versa</th>\n      <th>Origin Country</th>\n      <th>Destination Country</th>\n      <th>GDP WB origin</th>\n      <th>GDP WB Destination</th>\n      <th>Lat Origin</th>\n      <th>Lon Origin</th>\n      <th>Lat Destination</th>\n      <th>Lon Destination</th>\n      <th>...</th>\n      <th>Rate 12999 - 13999 kg</th>\n      <th>Rate 13999 - 14999 kg</th>\n      <th>Rate 14999 - 15999 kg</th>\n      <th>Rate 15999 - 16999 kg</th>\n      <th>Rate 16999 - 17999 kg</th>\n      <th>Rate 17999 - 18999 kg</th>\n      <th>Rate 18999 - 19999 kg</th>\n      <th>Rate 20000-21499 kg</th>\n      <th>Rate 21500-22999 kg</th>\n      <th>Rate 23000-24499 kg</th>\n    </tr>\n  </thead>\n  <tbody>\n    <tr>\n      <th>0</th>\n      <td>SE_CZ</td>\n      <td>CZ_SE</td>\n      <td>SE</td>\n      <td>CZ</td>\n      <td>537610.0</td>\n      <td>243530.0</td>\n      <td>58.51761</td>\n      <td>13.45279</td>\n      <td>48.84433</td>\n      <td>17.09269</td>\n      <td>...</td>\n      <td>520.910569</td>\n      <td>530.280069</td>\n      <td>540.947644</td>\n      <td>549.756274</td>\n      <td>558.933476</td>\n      <td>569.504737</td>\n      <td>579.554735</td>\n      <td>590.574761</td>\n      <td>594.701375</td>\n      <td>605.398711</td>\n    </tr>\n    <tr>\n      <th>1</th>\n      <td>SK_RO</td>\n      <td>RO_SK</td>\n      <td>SK</td>\n      <td>RO</td>\n      <td>104574.0</td>\n      <td>248716.0</td>\n      <td>48.82263</td>\n      <td>17.15524</td>\n      <td>46.34595</td>\n      <td>21.28440</td>\n      <td>...</td>\n      <td>359.382475</td>\n      <td>370.085963</td>\n      <td>382.267561</td>\n      <td>389.734663</td>\n      <td>399.584689</td>\n      <td>410.469392</td>\n      <td>422.074447</td>\n      <td>429.496006</td>\n      <td>429.762900</td>\n      <td>440.098367</td>\n    </tr>\n    <tr>\n      <th>2</th>\n      <td>RO_SK</td>\n      <td>SK_RO</td>\n      <td>RO</td>\n      <td>SK</td>\n      <td>248716.0</td>\n      <td>104574.0</td>\n      <td>46.34595</td>\n      <td>21.28440</td>\n      <td>48.82263</td>\n      <td>17.15524</td>\n      <td>...</td>\n      <td>484.880259</td>\n      <td>489.878669</td>\n      <td>495.629129</td>\n      <td>500.638597</td>\n      <td>505.002186</td>\n      <td>510.087815</td>\n      <td>514.566674</td>\n      <td>520.633220</td>\n      <td>519.983541</td>\n      <td>518.594831</td>\n    </tr>\n    <tr>\n      <th>3</th>\n      <td>CZ_CZ</td>\n      <td>CZ_CZ</td>\n      <td>CZ</td>\n      <td>CZ</td>\n      <td>243530.0</td>\n      <td>243530.0</td>\n      <td>49.56757</td>\n      <td>13.32155</td>\n      <td>48.84433</td>\n      <td>17.09269</td>\n      <td>...</td>\n      <td>455.592568</td>\n      <td>529.531939</td>\n      <td>549.176915</td>\n      <td>563.945789</td>\n      <td>581.743642</td>\n      <td>598.717496</td>\n      <td>634.246293</td>\n      <td>674.204446</td>\n      <td>678.656907</td>\n      <td>690.868583</td>\n    </tr>\n    <tr>\n      <th>4</th>\n      <td>CZ_DE</td>\n      <td>DE_CZ</td>\n      <td>CZ</td>\n      <td>DE</td>\n      <td>243530.0</td>\n      <td>3806060.0</td>\n      <td>49.56757</td>\n      <td>13.32155</td>\n      <td>52.57444</td>\n      <td>13.35121</td>\n      <td>...</td>\n      <td>647.958540</td>\n      <td>648.080548</td>\n      <td>648.908398</td>\n      <td>650.247414</td>\n      <td>648.361983</td>\n      <td>646.023037</td>\n      <td>647.597560</td>\n      <td>648.402944</td>\n      <td>651.182095</td>\n      <td>647.265194</td>\n    </tr>\n  </tbody>\n</table>\n<p>5 rows × 55 columns</p>\n</div>"
     },
     "metadata": {},
     "execution_count": 2
    }
   ],
   "source": [
    "# load the dummy_dataset \n",
    "fleet_rates = pd.read_csv('./data/input/dummy_input.csv', sep=';')\n",
    "fleet_rates.head()"
   ]
  },
  {
   "cell_type": "code",
   "execution_count": 3,
   "metadata": {},
   "outputs": [
    {
     "output_type": "execute_result",
     "data": {
      "text/plain": [
       "       GDP WB origin  GDP WB Destination  Lat Origin  Lon Origin  \\\n",
       "count   5.960000e+02        5.960000e+02  596.000000  596.000000   \n",
       "mean    2.566007e+06        2.053983e+06   49.947488   11.353508   \n",
       "std     1.620465e+06        1.721242e+06    2.225936    3.940805   \n",
       "min     3.103000e+04        1.045740e+05   39.624720   -8.508160   \n",
       "25%     5.376100e+05        2.435300e+05   48.778310    9.423056   \n",
       "50%     3.806060e+06        2.707744e+06   49.792110   11.353508   \n",
       "75%     3.806060e+06        3.806060e+06   50.959620   12.871230   \n",
       "max     3.806060e+06        3.806060e+06   59.262600   25.501080   \n",
       "\n",
       "       Lat Destination  Lon Destination     Distance  Rate 0 - 49 kg  \\\n",
       "count       596.000000       596.000000   596.000000      596.000000   \n",
       "mean         50.306511        11.933888   691.999180      102.377181   \n",
       "std           2.832077         4.565833   475.856043       78.960417   \n",
       "min          39.624720        -8.910010     1.677719       17.485298   \n",
       "25%          48.778310         9.916990   394.251654       70.561563   \n",
       "50%          49.567570        12.871230   597.997074       85.500706   \n",
       "75%          51.054922        13.497990   843.865393      105.454811   \n",
       "max          58.487117        21.284400  3528.309650     1041.013747   \n",
       "\n",
       "       Rate 50 - 99 kg  Rate 99 - 149 kg  ...  Rate 12999 - 13999 kg  \\\n",
       "count       596.000000        596.000000  ...             596.000000   \n",
       "mean        108.481494        114.974289  ...             653.794000   \n",
       "std          80.516925         81.627945  ...             470.777121   \n",
       "min          30.983147         33.460958  ...             160.157413   \n",
       "25%          75.055332         79.817685  ...             414.931035   \n",
       "50%          86.068187         91.212504  ...             499.377592   \n",
       "75%         115.087180        123.850139  ...             700.100521   \n",
       "max        1039.356377       1040.793429  ...            3998.364827   \n",
       "\n",
       "       Rate 13999 - 14999 kg  Rate 14999 - 15999 kg  Rate 15999 - 16999 kg  \\\n",
       "count             596.000000             596.000000             596.000000   \n",
       "mean              682.887667             711.291813             733.961526   \n",
       "std               503.094190             538.756116             554.074629   \n",
       "min               165.315755             170.319777             174.218842   \n",
       "25%               430.498797             450.174011             463.109420   \n",
       "50%               525.865621             539.754978             550.080598   \n",
       "75%               739.966068             760.372299             792.164108   \n",
       "max              4483.040831            4970.120434            4970.464855   \n",
       "\n",
       "       Rate 16999 - 17999 kg  Rate 17999 - 18999 kg  Rate 18999 - 19999 kg  \\\n",
       "count             596.000000             596.000000             596.000000   \n",
       "mean              758.746785             779.218141             796.032599   \n",
       "std               587.958811             605.563133             615.259595   \n",
       "min               180.212674             190.803875             198.989022   \n",
       "25%               482.669442             499.142664             509.885294   \n",
       "50%               561.268025             580.949232             591.893423   \n",
       "75%               814.542492             828.891759             833.884964   \n",
       "max              5334.089421            5335.870948            5333.004441   \n",
       "\n",
       "       Rate 20000-21499 kg  Rate 21500-22999 kg  Rate 23000-24499 kg  \n",
       "count           596.000000           596.000000           596.000000  \n",
       "mean            809.894606           819.375680           827.287942  \n",
       "std             623.431359           627.964867           630.753625  \n",
       "min             203.341645           203.335446           205.388386  \n",
       "25%             519.345165           519.767956           519.841259  \n",
       "50%             603.078279           618.386480           621.514120  \n",
       "75%             839.964466           844.778726           845.283481  \n",
       "max            5335.155080          5332.898829          5335.001320  \n",
       "\n",
       "[8 rows x 51 columns]"
      ],
      "text/html": "<div>\n<style scoped>\n    .dataframe tbody tr th:only-of-type {\n        vertical-align: middle;\n    }\n\n    .dataframe tbody tr th {\n        vertical-align: top;\n    }\n\n    .dataframe thead th {\n        text-align: right;\n    }\n</style>\n<table border=\"1\" class=\"dataframe\">\n  <thead>\n    <tr style=\"text-align: right;\">\n      <th></th>\n      <th>GDP WB origin</th>\n      <th>GDP WB Destination</th>\n      <th>Lat Origin</th>\n      <th>Lon Origin</th>\n      <th>Lat Destination</th>\n      <th>Lon Destination</th>\n      <th>Distance</th>\n      <th>Rate 0 - 49 kg</th>\n      <th>Rate 50 - 99 kg</th>\n      <th>Rate 99 - 149 kg</th>\n      <th>...</th>\n      <th>Rate 12999 - 13999 kg</th>\n      <th>Rate 13999 - 14999 kg</th>\n      <th>Rate 14999 - 15999 kg</th>\n      <th>Rate 15999 - 16999 kg</th>\n      <th>Rate 16999 - 17999 kg</th>\n      <th>Rate 17999 - 18999 kg</th>\n      <th>Rate 18999 - 19999 kg</th>\n      <th>Rate 20000-21499 kg</th>\n      <th>Rate 21500-22999 kg</th>\n      <th>Rate 23000-24499 kg</th>\n    </tr>\n  </thead>\n  <tbody>\n    <tr>\n      <th>count</th>\n      <td>5.960000e+02</td>\n      <td>5.960000e+02</td>\n      <td>596.000000</td>\n      <td>596.000000</td>\n      <td>596.000000</td>\n      <td>596.000000</td>\n      <td>596.000000</td>\n      <td>596.000000</td>\n      <td>596.000000</td>\n      <td>596.000000</td>\n      <td>...</td>\n      <td>596.000000</td>\n      <td>596.000000</td>\n      <td>596.000000</td>\n      <td>596.000000</td>\n      <td>596.000000</td>\n      <td>596.000000</td>\n      <td>596.000000</td>\n      <td>596.000000</td>\n      <td>596.000000</td>\n      <td>596.000000</td>\n    </tr>\n    <tr>\n      <th>mean</th>\n      <td>2.566007e+06</td>\n      <td>2.053983e+06</td>\n      <td>49.947488</td>\n      <td>11.353508</td>\n      <td>50.306511</td>\n      <td>11.933888</td>\n      <td>691.999180</td>\n      <td>102.377181</td>\n      <td>108.481494</td>\n      <td>114.974289</td>\n      <td>...</td>\n      <td>653.794000</td>\n      <td>682.887667</td>\n      <td>711.291813</td>\n      <td>733.961526</td>\n      <td>758.746785</td>\n      <td>779.218141</td>\n      <td>796.032599</td>\n      <td>809.894606</td>\n      <td>819.375680</td>\n      <td>827.287942</td>\n    </tr>\n    <tr>\n      <th>std</th>\n      <td>1.620465e+06</td>\n      <td>1.721242e+06</td>\n      <td>2.225936</td>\n      <td>3.940805</td>\n      <td>2.832077</td>\n      <td>4.565833</td>\n      <td>475.856043</td>\n      <td>78.960417</td>\n      <td>80.516925</td>\n      <td>81.627945</td>\n      <td>...</td>\n      <td>470.777121</td>\n      <td>503.094190</td>\n      <td>538.756116</td>\n      <td>554.074629</td>\n      <td>587.958811</td>\n      <td>605.563133</td>\n      <td>615.259595</td>\n      <td>623.431359</td>\n      <td>627.964867</td>\n      <td>630.753625</td>\n    </tr>\n    <tr>\n      <th>min</th>\n      <td>3.103000e+04</td>\n      <td>1.045740e+05</td>\n      <td>39.624720</td>\n      <td>-8.508160</td>\n      <td>39.624720</td>\n      <td>-8.910010</td>\n      <td>1.677719</td>\n      <td>17.485298</td>\n      <td>30.983147</td>\n      <td>33.460958</td>\n      <td>...</td>\n      <td>160.157413</td>\n      <td>165.315755</td>\n      <td>170.319777</td>\n      <td>174.218842</td>\n      <td>180.212674</td>\n      <td>190.803875</td>\n      <td>198.989022</td>\n      <td>203.341645</td>\n      <td>203.335446</td>\n      <td>205.388386</td>\n    </tr>\n    <tr>\n      <th>25%</th>\n      <td>5.376100e+05</td>\n      <td>2.435300e+05</td>\n      <td>48.778310</td>\n      <td>9.423056</td>\n      <td>48.778310</td>\n      <td>9.916990</td>\n      <td>394.251654</td>\n      <td>70.561563</td>\n      <td>75.055332</td>\n      <td>79.817685</td>\n      <td>...</td>\n      <td>414.931035</td>\n      <td>430.498797</td>\n      <td>450.174011</td>\n      <td>463.109420</td>\n      <td>482.669442</td>\n      <td>499.142664</td>\n      <td>509.885294</td>\n      <td>519.345165</td>\n      <td>519.767956</td>\n      <td>519.841259</td>\n    </tr>\n    <tr>\n      <th>50%</th>\n      <td>3.806060e+06</td>\n      <td>2.707744e+06</td>\n      <td>49.792110</td>\n      <td>11.353508</td>\n      <td>49.567570</td>\n      <td>12.871230</td>\n      <td>597.997074</td>\n      <td>85.500706</td>\n      <td>86.068187</td>\n      <td>91.212504</td>\n      <td>...</td>\n      <td>499.377592</td>\n      <td>525.865621</td>\n      <td>539.754978</td>\n      <td>550.080598</td>\n      <td>561.268025</td>\n      <td>580.949232</td>\n      <td>591.893423</td>\n      <td>603.078279</td>\n      <td>618.386480</td>\n      <td>621.514120</td>\n    </tr>\n    <tr>\n      <th>75%</th>\n      <td>3.806060e+06</td>\n      <td>3.806060e+06</td>\n      <td>50.959620</td>\n      <td>12.871230</td>\n      <td>51.054922</td>\n      <td>13.497990</td>\n      <td>843.865393</td>\n      <td>105.454811</td>\n      <td>115.087180</td>\n      <td>123.850139</td>\n      <td>...</td>\n      <td>700.100521</td>\n      <td>739.966068</td>\n      <td>760.372299</td>\n      <td>792.164108</td>\n      <td>814.542492</td>\n      <td>828.891759</td>\n      <td>833.884964</td>\n      <td>839.964466</td>\n      <td>844.778726</td>\n      <td>845.283481</td>\n    </tr>\n    <tr>\n      <th>max</th>\n      <td>3.806060e+06</td>\n      <td>3.806060e+06</td>\n      <td>59.262600</td>\n      <td>25.501080</td>\n      <td>58.487117</td>\n      <td>21.284400</td>\n      <td>3528.309650</td>\n      <td>1041.013747</td>\n      <td>1039.356377</td>\n      <td>1040.793429</td>\n      <td>...</td>\n      <td>3998.364827</td>\n      <td>4483.040831</td>\n      <td>4970.120434</td>\n      <td>4970.464855</td>\n      <td>5334.089421</td>\n      <td>5335.870948</td>\n      <td>5333.004441</td>\n      <td>5335.155080</td>\n      <td>5332.898829</td>\n      <td>5335.001320</td>\n    </tr>\n  </tbody>\n</table>\n<p>8 rows × 51 columns</p>\n</div>"
     },
     "metadata": {},
     "execution_count": 3
    }
   ],
   "source": [
    "# look at some minor statistics about dataset\n",
    "fleet_rates.describe()"
   ]
  },
  {
   "cell_type": "code",
   "execution_count": 4,
   "metadata": {},
   "outputs": [
    {
     "output_type": "execute_result",
     "data": {
      "text/plain": [
       "OneHotEncoder(handle_unknown='ignore')"
      ]
     },
     "metadata": {},
     "execution_count": 4
    }
   ],
   "source": [
    "# one hot encoding for categorical data \n",
    "enc = OneHotEncoder(handle_unknown='ignore')\n",
    "enc.fit(fleet_rates[['Country Relation', 'Country Relation Vice Versa', 'Origin Country', 'Destination Country']])"
   ]
  },
  {
   "cell_type": "code",
   "execution_count": 5,
   "metadata": {},
   "outputs": [
    {
     "output_type": "execute_result",
     "data": {
      "text/plain": [
       "   AT_SK  BE_CZ  BE_DE  BE_ES  BE_GB  CZ_CZ  CZ_DE  CZ_ES  CZ_GB  CZ_HU  ...  \\\n",
       "0    0.0    0.0    0.0    0.0    0.0    0.0    0.0    0.0    0.0    0.0  ...   \n",
       "1    0.0    0.0    0.0    0.0    0.0    0.0    0.0    0.0    0.0    0.0  ...   \n",
       "2    0.0    0.0    0.0    0.0    0.0    0.0    0.0    0.0    0.0    0.0  ...   \n",
       "3    0.0    0.0    0.0    0.0    0.0    1.0    0.0    0.0    0.0    0.0  ...   \n",
       "4    0.0    0.0    0.0    0.0    0.0    0.0    1.0    0.0    0.0    0.0  ...   \n",
       "\n",
       "   Rate 12999 - 13999 kg  Rate 13999 - 14999 kg  Rate 14999 - 15999 kg  \\\n",
       "0             520.910569             530.280069             540.947644   \n",
       "1             359.382475             370.085963             382.267561   \n",
       "2             484.880259             489.878669             495.629129   \n",
       "3             455.592568             529.531939             549.176915   \n",
       "4             647.958540             648.080548             648.908398   \n",
       "\n",
       "   Rate 15999 - 16999 kg  Rate 16999 - 17999 kg  Rate 17999 - 18999 kg  \\\n",
       "0             549.756274             558.933476             569.504737   \n",
       "1             389.734663             399.584689             410.469392   \n",
       "2             500.638597             505.002186             510.087815   \n",
       "3             563.945789             581.743642             598.717496   \n",
       "4             650.247414             648.361983             646.023037   \n",
       "\n",
       "   Rate 18999 - 19999 kg  Rate 20000-21499 kg  Rate 21500-22999 kg  \\\n",
       "0             579.554735           590.574761           594.701375   \n",
       "1             422.074447           429.496006           429.762900   \n",
       "2             514.566674           520.633220           519.983541   \n",
       "3             634.246293           674.204446           678.656907   \n",
       "4             647.597560           648.402944           651.182095   \n",
       "\n",
       "   Rate 23000-24499 kg  \n",
       "0           605.398711  \n",
       "1           440.098367  \n",
       "2           518.594831  \n",
       "3           690.868583  \n",
       "4           647.265194  \n",
       "\n",
       "[5 rows x 241 columns]"
      ],
      "text/html": "<div>\n<style scoped>\n    .dataframe tbody tr th:only-of-type {\n        vertical-align: middle;\n    }\n\n    .dataframe tbody tr th {\n        vertical-align: top;\n    }\n\n    .dataframe thead th {\n        text-align: right;\n    }\n</style>\n<table border=\"1\" class=\"dataframe\">\n  <thead>\n    <tr style=\"text-align: right;\">\n      <th></th>\n      <th>AT_SK</th>\n      <th>BE_CZ</th>\n      <th>BE_DE</th>\n      <th>BE_ES</th>\n      <th>BE_GB</th>\n      <th>CZ_CZ</th>\n      <th>CZ_DE</th>\n      <th>CZ_ES</th>\n      <th>CZ_GB</th>\n      <th>CZ_HU</th>\n      <th>...</th>\n      <th>Rate 12999 - 13999 kg</th>\n      <th>Rate 13999 - 14999 kg</th>\n      <th>Rate 14999 - 15999 kg</th>\n      <th>Rate 15999 - 16999 kg</th>\n      <th>Rate 16999 - 17999 kg</th>\n      <th>Rate 17999 - 18999 kg</th>\n      <th>Rate 18999 - 19999 kg</th>\n      <th>Rate 20000-21499 kg</th>\n      <th>Rate 21500-22999 kg</th>\n      <th>Rate 23000-24499 kg</th>\n    </tr>\n  </thead>\n  <tbody>\n    <tr>\n      <th>0</th>\n      <td>0.0</td>\n      <td>0.0</td>\n      <td>0.0</td>\n      <td>0.0</td>\n      <td>0.0</td>\n      <td>0.0</td>\n      <td>0.0</td>\n      <td>0.0</td>\n      <td>0.0</td>\n      <td>0.0</td>\n      <td>...</td>\n      <td>520.910569</td>\n      <td>530.280069</td>\n      <td>540.947644</td>\n      <td>549.756274</td>\n      <td>558.933476</td>\n      <td>569.504737</td>\n      <td>579.554735</td>\n      <td>590.574761</td>\n      <td>594.701375</td>\n      <td>605.398711</td>\n    </tr>\n    <tr>\n      <th>1</th>\n      <td>0.0</td>\n      <td>0.0</td>\n      <td>0.0</td>\n      <td>0.0</td>\n      <td>0.0</td>\n      <td>0.0</td>\n      <td>0.0</td>\n      <td>0.0</td>\n      <td>0.0</td>\n      <td>0.0</td>\n      <td>...</td>\n      <td>359.382475</td>\n      <td>370.085963</td>\n      <td>382.267561</td>\n      <td>389.734663</td>\n      <td>399.584689</td>\n      <td>410.469392</td>\n      <td>422.074447</td>\n      <td>429.496006</td>\n      <td>429.762900</td>\n      <td>440.098367</td>\n    </tr>\n    <tr>\n      <th>2</th>\n      <td>0.0</td>\n      <td>0.0</td>\n      <td>0.0</td>\n      <td>0.0</td>\n      <td>0.0</td>\n      <td>0.0</td>\n      <td>0.0</td>\n      <td>0.0</td>\n      <td>0.0</td>\n      <td>0.0</td>\n      <td>...</td>\n      <td>484.880259</td>\n      <td>489.878669</td>\n      <td>495.629129</td>\n      <td>500.638597</td>\n      <td>505.002186</td>\n      <td>510.087815</td>\n      <td>514.566674</td>\n      <td>520.633220</td>\n      <td>519.983541</td>\n      <td>518.594831</td>\n    </tr>\n    <tr>\n      <th>3</th>\n      <td>0.0</td>\n      <td>0.0</td>\n      <td>0.0</td>\n      <td>0.0</td>\n      <td>0.0</td>\n      <td>1.0</td>\n      <td>0.0</td>\n      <td>0.0</td>\n      <td>0.0</td>\n      <td>0.0</td>\n      <td>...</td>\n      <td>455.592568</td>\n      <td>529.531939</td>\n      <td>549.176915</td>\n      <td>563.945789</td>\n      <td>581.743642</td>\n      <td>598.717496</td>\n      <td>634.246293</td>\n      <td>674.204446</td>\n      <td>678.656907</td>\n      <td>690.868583</td>\n    </tr>\n    <tr>\n      <th>4</th>\n      <td>0.0</td>\n      <td>0.0</td>\n      <td>0.0</td>\n      <td>0.0</td>\n      <td>0.0</td>\n      <td>0.0</td>\n      <td>1.0</td>\n      <td>0.0</td>\n      <td>0.0</td>\n      <td>0.0</td>\n      <td>...</td>\n      <td>647.958540</td>\n      <td>648.080548</td>\n      <td>648.908398</td>\n      <td>650.247414</td>\n      <td>648.361983</td>\n      <td>646.023037</td>\n      <td>647.597560</td>\n      <td>648.402944</td>\n      <td>651.182095</td>\n      <td>647.265194</td>\n    </tr>\n  </tbody>\n</table>\n<p>5 rows × 241 columns</p>\n</div>"
     },
     "metadata": {},
     "execution_count": 5
    }
   ],
   "source": [
    "# create onehot data for training \n",
    "one_hot = enc.transform(fleet_rates[['Country Relation', 'Country Relation Vice Versa', 'Origin Country', 'Destination Country']])\n",
    "# enc.categories_\n",
    "one_hot_arr = one_hot.toarray()\n",
    "# one_hot_arr[:2]\n",
    "# fleetrates without categorical values \n",
    "fleet_rates_one_hot = fleet_rates.drop(['Country Relation', 'Country Relation Vice Versa', 'Origin Country', 'Destination Country'], axis=1)\n",
    "names_list = []\n",
    "[names_list.extend(list(entry)) for entry in enc.categories_]\n",
    "one_hot_df = pd.DataFrame(one_hot_arr, columns= names_list)\n",
    "ready_for_training_df = pd.concat([one_hot_df,fleet_rates_one_hot], axis = 1)\n",
    "ready_for_training_df.head()"
   ]
  },
  {
   "cell_type": "code",
   "execution_count": 6,
   "metadata": {},
   "outputs": [
    {
     "output_type": "execute_result",
     "data": {
      "text/plain": [
       "   AT_SK  BE_CZ  BE_DE  BE_ES  BE_GB  CZ_CZ  CZ_DE  CZ_ES  CZ_GB  CZ_HU  ...  \\\n",
       "0    0.0    0.0    0.0    0.0    0.0    0.0    0.0    0.0    0.0    0.0  ...   \n",
       "1    0.0    0.0    0.0    0.0    0.0    0.0    0.0    0.0    0.0    0.0  ...   \n",
       "2    0.0    0.0    0.0    0.0    0.0    0.0    0.0    0.0    0.0    0.0  ...   \n",
       "3    0.0    0.0    0.0    0.0    0.0    0.0    0.0    0.0    0.0    0.0  ...   \n",
       "4    0.0    0.0    0.0    0.0    0.0    0.0    0.0    0.0    0.0    0.0  ...   \n",
       "\n",
       "    RO   SE   SK  GDP WB origin  GDP WB Destination  Lat Origin  Lon Origin  \\\n",
       "0  0.0  0.0  0.0         481796              481796    47516231    14550072   \n",
       "1  0.0  0.0  0.0         481796              481796    47516231    14550072   \n",
       "2  0.0  0.0  0.0         481796              481796    47516231    14550072   \n",
       "3  0.0  0.0  0.0         481796              481796    47516231    14550072   \n",
       "4  0.0  0.0  0.0         481796              481796    47516231    14550072   \n",
       "\n",
       "   Lat Destination  Lon Destination  Distance  \n",
       "0         47516231         14550072        40  \n",
       "1         47516231         14550072        75  \n",
       "2         47516231         14550072       100  \n",
       "3         47516231         14550072       150  \n",
       "4         47516231         14550072       200  \n",
       "\n",
       "[5 rows x 197 columns]"
      ],
      "text/html": "<div>\n<style scoped>\n    .dataframe tbody tr th:only-of-type {\n        vertical-align: middle;\n    }\n\n    .dataframe tbody tr th {\n        vertical-align: top;\n    }\n\n    .dataframe thead th {\n        text-align: right;\n    }\n</style>\n<table border=\"1\" class=\"dataframe\">\n  <thead>\n    <tr style=\"text-align: right;\">\n      <th></th>\n      <th>AT_SK</th>\n      <th>BE_CZ</th>\n      <th>BE_DE</th>\n      <th>BE_ES</th>\n      <th>BE_GB</th>\n      <th>CZ_CZ</th>\n      <th>CZ_DE</th>\n      <th>CZ_ES</th>\n      <th>CZ_GB</th>\n      <th>CZ_HU</th>\n      <th>...</th>\n      <th>RO</th>\n      <th>SE</th>\n      <th>SK</th>\n      <th>GDP WB origin</th>\n      <th>GDP WB Destination</th>\n      <th>Lat Origin</th>\n      <th>Lon Origin</th>\n      <th>Lat Destination</th>\n      <th>Lon Destination</th>\n      <th>Distance</th>\n    </tr>\n  </thead>\n  <tbody>\n    <tr>\n      <th>0</th>\n      <td>0.0</td>\n      <td>0.0</td>\n      <td>0.0</td>\n      <td>0.0</td>\n      <td>0.0</td>\n      <td>0.0</td>\n      <td>0.0</td>\n      <td>0.0</td>\n      <td>0.0</td>\n      <td>0.0</td>\n      <td>...</td>\n      <td>0.0</td>\n      <td>0.0</td>\n      <td>0.0</td>\n      <td>481796</td>\n      <td>481796</td>\n      <td>47516231</td>\n      <td>14550072</td>\n      <td>47516231</td>\n      <td>14550072</td>\n      <td>40</td>\n    </tr>\n    <tr>\n      <th>1</th>\n      <td>0.0</td>\n      <td>0.0</td>\n      <td>0.0</td>\n      <td>0.0</td>\n      <td>0.0</td>\n      <td>0.0</td>\n      <td>0.0</td>\n      <td>0.0</td>\n      <td>0.0</td>\n      <td>0.0</td>\n      <td>...</td>\n      <td>0.0</td>\n      <td>0.0</td>\n      <td>0.0</td>\n      <td>481796</td>\n      <td>481796</td>\n      <td>47516231</td>\n      <td>14550072</td>\n      <td>47516231</td>\n      <td>14550072</td>\n      <td>75</td>\n    </tr>\n    <tr>\n      <th>2</th>\n      <td>0.0</td>\n      <td>0.0</td>\n      <td>0.0</td>\n      <td>0.0</td>\n      <td>0.0</td>\n      <td>0.0</td>\n      <td>0.0</td>\n      <td>0.0</td>\n      <td>0.0</td>\n      <td>0.0</td>\n      <td>...</td>\n      <td>0.0</td>\n      <td>0.0</td>\n      <td>0.0</td>\n      <td>481796</td>\n      <td>481796</td>\n      <td>47516231</td>\n      <td>14550072</td>\n      <td>47516231</td>\n      <td>14550072</td>\n      <td>100</td>\n    </tr>\n    <tr>\n      <th>3</th>\n      <td>0.0</td>\n      <td>0.0</td>\n      <td>0.0</td>\n      <td>0.0</td>\n      <td>0.0</td>\n      <td>0.0</td>\n      <td>0.0</td>\n      <td>0.0</td>\n      <td>0.0</td>\n      <td>0.0</td>\n      <td>...</td>\n      <td>0.0</td>\n      <td>0.0</td>\n      <td>0.0</td>\n      <td>481796</td>\n      <td>481796</td>\n      <td>47516231</td>\n      <td>14550072</td>\n      <td>47516231</td>\n      <td>14550072</td>\n      <td>150</td>\n    </tr>\n    <tr>\n      <th>4</th>\n      <td>0.0</td>\n      <td>0.0</td>\n      <td>0.0</td>\n      <td>0.0</td>\n      <td>0.0</td>\n      <td>0.0</td>\n      <td>0.0</td>\n      <td>0.0</td>\n      <td>0.0</td>\n      <td>0.0</td>\n      <td>...</td>\n      <td>0.0</td>\n      <td>0.0</td>\n      <td>0.0</td>\n      <td>481796</td>\n      <td>481796</td>\n      <td>47516231</td>\n      <td>14550072</td>\n      <td>47516231</td>\n      <td>14550072</td>\n      <td>200</td>\n    </tr>\n  </tbody>\n</table>\n<p>5 rows × 197 columns</p>\n</div>"
     },
     "metadata": {},
     "execution_count": 6
    }
   ],
   "source": [
    "# create onehot data for prediction\n",
    "predict_df = pd.read_csv('./data/input/predict.csv', sep=';')\n",
    "predict_df.drop(columns=['Key'], axis = 1, inplace=True)\n",
    "one_hot_predict = enc.transform(predict_df[['Country Relation', 'Country Relation Vice Versa', 'Origin Country', 'Destination Country']])\n",
    "one_hot_predict_arr = one_hot_predict.toarray()\n",
    "one_hot_predict_df = pd.DataFrame(one_hot_predict_arr, columns= names_list)\n",
    "predict_df_one_hot = predict_df.drop(['Country Relation', 'Country Relation Vice Versa', 'Origin Country', 'Destination Country'], axis=1)\n",
    "ready_for_predict_df = pd.concat([one_hot_predict_df,predict_df_one_hot], axis = 1)\n",
    "ready_for_predict_df.head()"
   ]
  },
  {
   "cell_type": "code",
   "execution_count": 7,
   "metadata": {},
   "outputs": [],
   "source": [
    "# Input for training and test needs to be similar \n",
    " \n",
    "# training with everything until distance\n",
    "X = ready_for_training_df[ready_for_training_df.columns[:ready_for_training_df.columns.get_loc('Distance') + 1]]\n",
    "\n",
    "# training for Rate 0 - 49 kg prediction\n",
    "y = ready_for_training_df[ready_for_training_df.columns[ready_for_training_df.columns.get_loc('Distance') + 1]]\n",
    "\n",
    "# predict with everything until distance \n",
    "X_predict = ready_for_predict_df[ready_for_predict_df.columns[:ready_for_predict_df.columns.get_loc('Distance') + 1]]"
   ]
  },
  {
   "cell_type": "code",
   "execution_count": 8,
   "metadata": {},
   "outputs": [
    {
     "output_type": "execute_result",
     "data": {
      "text/plain": [
       "0.3793727307529938"
      ]
     },
     "metadata": {},
     "execution_count": 8
    }
   ],
   "source": [
    "# train test split \n",
    "X_train, X_test, y_train, y_test = train_test_split(X, y, test_size=0.1, random_state=11, shuffle=False)\n",
    "# for depth in range(1,40):\n",
    "#     regr = RandomForestRegressor(max_depth=depth, random_state=12)\n",
    "#     regr.fit(X_train,y_train)\n",
    "#     print(depth, regr.score(X_test, y_test))\n",
    "regr = RandomForestRegressor(max_depth=27, random_state=12)\n",
    "regr.fit(X_train,y_train)\n",
    "regr.score(X_test, y_test)"
   ]
  },
  {
   "cell_type": "code",
   "execution_count": 17,
   "metadata": {},
   "outputs": [
    {
     "output_type": "execute_result",
     "data": {
      "text/plain": [
       "  Country Relation Country Relation Vice Versa Origin Country  \\\n",
       "0            AT_AT                       AT_AT             AT   \n",
       "1            AT_AT                       AT_AT             AT   \n",
       "2            AT_AT                       AT_AT             AT   \n",
       "3            AT_AT                       AT_AT             AT   \n",
       "4            AT_AT                       AT_AT             AT   \n",
       "\n",
       "  Destination Country  GDP WB origin  GDP WB Destination  Lat Origin  \\\n",
       "0                  AT         481796              481796    47516231   \n",
       "1                  AT         481796              481796    47516231   \n",
       "2                  AT         481796              481796    47516231   \n",
       "3                  AT         481796              481796    47516231   \n",
       "4                  AT         481796              481796    47516231   \n",
       "\n",
       "   Lon Origin  Lat Destination  Lon Destination  Distance  \\\n",
       "0    14550072         47516231         14550072        40   \n",
       "1    14550072         47516231         14550072        75   \n",
       "2    14550072         47516231         14550072       100   \n",
       "3    14550072         47516231         14550072       150   \n",
       "4    14550072         47516231         14550072       200   \n",
       "\n",
       "   predicted Rate 0 - 49 kg  \n",
       "0                115.602248  \n",
       "1                115.813466  \n",
       "2                115.515468  \n",
       "3                117.134399  \n",
       "4                117.378784  "
      ],
      "text/html": "<div>\n<style scoped>\n    .dataframe tbody tr th:only-of-type {\n        vertical-align: middle;\n    }\n\n    .dataframe tbody tr th {\n        vertical-align: top;\n    }\n\n    .dataframe thead th {\n        text-align: right;\n    }\n</style>\n<table border=\"1\" class=\"dataframe\">\n  <thead>\n    <tr style=\"text-align: right;\">\n      <th></th>\n      <th>Country Relation</th>\n      <th>Country Relation Vice Versa</th>\n      <th>Origin Country</th>\n      <th>Destination Country</th>\n      <th>GDP WB origin</th>\n      <th>GDP WB Destination</th>\n      <th>Lat Origin</th>\n      <th>Lon Origin</th>\n      <th>Lat Destination</th>\n      <th>Lon Destination</th>\n      <th>Distance</th>\n      <th>predicted Rate 0 - 49 kg</th>\n    </tr>\n  </thead>\n  <tbody>\n    <tr>\n      <th>0</th>\n      <td>AT_AT</td>\n      <td>AT_AT</td>\n      <td>AT</td>\n      <td>AT</td>\n      <td>481796</td>\n      <td>481796</td>\n      <td>47516231</td>\n      <td>14550072</td>\n      <td>47516231</td>\n      <td>14550072</td>\n      <td>40</td>\n      <td>115.602248</td>\n    </tr>\n    <tr>\n      <th>1</th>\n      <td>AT_AT</td>\n      <td>AT_AT</td>\n      <td>AT</td>\n      <td>AT</td>\n      <td>481796</td>\n      <td>481796</td>\n      <td>47516231</td>\n      <td>14550072</td>\n      <td>47516231</td>\n      <td>14550072</td>\n      <td>75</td>\n      <td>115.813466</td>\n    </tr>\n    <tr>\n      <th>2</th>\n      <td>AT_AT</td>\n      <td>AT_AT</td>\n      <td>AT</td>\n      <td>AT</td>\n      <td>481796</td>\n      <td>481796</td>\n      <td>47516231</td>\n      <td>14550072</td>\n      <td>47516231</td>\n      <td>14550072</td>\n      <td>100</td>\n      <td>115.515468</td>\n    </tr>\n    <tr>\n      <th>3</th>\n      <td>AT_AT</td>\n      <td>AT_AT</td>\n      <td>AT</td>\n      <td>AT</td>\n      <td>481796</td>\n      <td>481796</td>\n      <td>47516231</td>\n      <td>14550072</td>\n      <td>47516231</td>\n      <td>14550072</td>\n      <td>150</td>\n      <td>117.134399</td>\n    </tr>\n    <tr>\n      <th>4</th>\n      <td>AT_AT</td>\n      <td>AT_AT</td>\n      <td>AT</td>\n      <td>AT</td>\n      <td>481796</td>\n      <td>481796</td>\n      <td>47516231</td>\n      <td>14550072</td>\n      <td>47516231</td>\n      <td>14550072</td>\n      <td>200</td>\n      <td>117.378784</td>\n    </tr>\n  </tbody>\n</table>\n</div>"
     },
     "metadata": {},
     "execution_count": 17
    }
   ],
   "source": [
    "# even though score is considered weak for showcase purposes we continue with this example\n",
    "predict_df['predicted Rate 0 - 49 kg'] = regr.predict(X_predict)\n",
    "predict_df.head()"
   ]
  }
 ]
}