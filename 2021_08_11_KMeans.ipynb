{
  "nbformat": 4,
  "nbformat_minor": 0,
  "metadata": {
    "colab": {
      "name": "2021_08_11_KMeans.ipynb",
      "provenance": [],
      "collapsed_sections": [],
      "authorship_tag": "ABX9TyP9MecLpC4iHabt4Bi1gxIp",
      "include_colab_link": true
    },
    "kernelspec": {
      "name": "python3",
      "display_name": "Python 3"
    },
    "language_info": {
      "name": "python"
    }
  },
  "cells": [
    {
      "cell_type": "markdown",
      "metadata": {
        "id": "view-in-github",
        "colab_type": "text"
      },
      "source": [
        "<a href=\"https://colab.research.google.com/github/knschuckmann/ColabProjects/blob/main/2021_08_11_KMeans.ipynb\" target=\"_parent\"><img src=\"https://colab.research.google.com/assets/colab-badge.svg\" alt=\"Open In Colab\"/></a>"
      ]
    },
    {
      "cell_type": "markdown",
      "metadata": {
        "id": "NerEjLca5LsY"
      },
      "source": [
        "# KMeans algorithm briefly described \n",
        "\n",
        "---"
      ]
    },
    {
      "cell_type": "markdown",
      "metadata": {
        "id": "y77_R2KN6KRh"
      },
      "source": [
        "\n",
        "## Colab correct operation  \n",
        "⛔️  you will need to copy this Notebook to your own Google drive account (otherwise everybody will be working on same copy and changing it)\n",
        "\n",
        "1. Click on File in Menu \n",
        "2. Click on 'Save a copy in Drive' as shown below <br/>\n",
        "![copy File][2] \n",
        "\n",
        "3. A new Tab will be created, so you can start running this script.\n",
        "\n",
        "[2]: https://raw.githubusercontent.com/knschuckmann/4flow_bundesliga/master/pictures/Save.PNG\n",
        "\n",
        "\n",
        "### ⚠️ How Colab works\n",
        "\n",
        "1. Colab is an online [Jupyter Notebook](https://jupyter.org/index.html), which can be accessed without any further installation\n",
        "2. By Connecting to a computation power source a new instance will be created. For now we will devote ourselves, that it works and not dive into details (click on connect in top right corner and wait to see RAM-Disk logo). <br/>\n",
        "![runtime][6]\n",
        "3. Clicking on the play Button in each Codefield, runs the code inside this Codefield. <br/>\n",
        "![run_o][3] <br/>\n",
        "Only if you hover on the area of the button you will be able to see the play button<br/> ![run_1][4]\n",
        "4. After you ran a cell you will see a number on the field, marking the order of the running  process  <br/>\n",
        "![run_1][5]\n",
        "4. ### ⚠️ **Possible Errors**  \n",
        "  1. It is essential to follow the order of this Notebook and **run the Code fields one after the other**. the numbers will tell you if you forgot to run a field. (Please dont skip code cells to run)\n",
        "\n",
        "[6]: https://raw.githubusercontent.com/knschuckmann/4flow_bundesliga/master/pictures/Runtime.PNG\n",
        "[3]: https://raw.githubusercontent.com/knschuckmann/4flow_bundesliga/master/pictures/Run_0.PNG\n",
        "[4]: https://raw.githubusercontent.com/knschuckmann/ML_bundesliga_challange/a7e04265d0ee277b1d7143dcd20caeb17a1ba596/pictures/Hover_over.gif\n",
        "[5]: https://raw.githubusercontent.com/knschuckmann/4flow_bundesliga/master/pictures/Run_2.PNG"
      ]
    },
    {
      "cell_type": "markdown",
      "metadata": {
        "id": "VbhhXouz5Icb"
      },
      "source": [
        "## Verify results from presentation (START)"
      ]
    },
    {
      "cell_type": "markdown",
      "metadata": {
        "id": "PBvSzJ2GAiKb"
      },
      "source": [
        "Preprocessing steps"
      ]
    },
    {
      "cell_type": "code",
      "metadata": {
        "id": "aVYzCEOy5K-V"
      },
      "source": [
        "# import libraries \n",
        "!pip install -q mediapy\n",
        "import matplotlib.pyplot as plt \n",
        "from sklearn.datasets import make_blobs\n",
        "from sklearn.cluster import KMeans\n",
        "from sklearn.decomposition import PCA\n",
        "import mediapy as media\n",
        "import numpy as np\n",
        "import pandas as pd"
      ],
      "execution_count": null,
      "outputs": []
    },
    {
      "cell_type": "code",
      "metadata": {
        "id": "kgwmwtgtXTaO"
      },
      "source": [
        "# define variables urls to images and print functions \n",
        "base_url = 'https://raw.githubusercontent.com/knschuckmann/ColabProjects/e05ba226f1a01e2a61dac94b46956656873ec36f/2021_08_11_KMeans/data/'\n",
        "image_names = ['01_agshdgz.png', '13123_test_sawqe.png', 'big.png', 'one.png', 'simple.png', 'starategy_team.png', 'test_2.png']\n",
        "# helper function\n",
        "def check_appearance(name, dictionary, exception):\n",
        "  try:\n",
        "    return dictionary[name]\n",
        "  except:\n",
        "    return exception\n",
        "# plot function\n",
        "def display_data(X_data, Y_data,**kwargs):\n",
        "  plt.scatter(X_data, Y_data, s = check_appearance('s', kwargs, 50), c=check_appearance('c', kwargs, 'blue'))\n",
        "  plt.xlabel(xlabel = check_appearance('xlabel', kwargs, 'X'), size = check_appearance('size', kwargs, 10))\n",
        "  plt.ylabel(ylabel = check_appearance('ylabel', kwargs, 'X'), size = check_appearance('size', kwargs, 10))\n",
        "  plt.xticks(ticks=range(int(X_data.min()),int(X_data.max())))\n",
        "  plt.show()"
      ],
      "execution_count": null,
      "outputs": []
    },
    {
      "cell_type": "code",
      "metadata": {
        "id": "8-au20aZcOBR"
      },
      "source": [
        " # dummy data creation\n",
        " X, y_true = make_blobs(n_samples=300, centers=4,\n",
        "                       cluster_std=0.60, random_state=0)\n",
        "grades = np.interp(X[:, 0], (X[:, 0].min(), X[:, 0].max()), (1, 6))\n",
        "students = np.interp(X[:, 1], (X[:, 1].min(), X[:, 1].max()), (10, 30))"
      ],
      "execution_count": null,
      "outputs": []
    },
    {
      "cell_type": "code",
      "metadata": {
        "id": "50dBBN9mdGK4"
      },
      "source": [
        "# display statistics of dummy data\n",
        "df = pd.DataFrame(np.dstack([students, grades])[0])\n",
        "df.describe()"
      ],
      "execution_count": null,
      "outputs": []
    },
    {
      "cell_type": "markdown",
      "metadata": {
        "id": "5Kc99Dl2k7hY"
      },
      "source": [
        "Display original data"
      ]
    },
    {
      "cell_type": "code",
      "metadata": {
        "id": "JYzK1cEIeZyV"
      },
      "source": [
        "display_data(X_data=students, Y_data=grades, xlabel=\"students in class averaged\", ylabel=\"avg grades\", size=10, s=50)"
      ],
      "execution_count": null,
      "outputs": []
    },
    {
      "cell_type": "markdown",
      "metadata": {
        "id": "aLVi8nXIlAWl"
      },
      "source": [
        "Display classified data"
      ]
    },
    {
      "cell_type": "code",
      "metadata": {
        "id": "-KSORM2ac2cd"
      },
      "source": [
        "kmeans = KMeans(n_clusters= 4)\n",
        "kmeans.fit(df)\n",
        "display_data(X_data=students, Y_data=grades, c=kmeans.labels_, xlabel=\"students in class averaged\", ylabel=\"avg grades\", size=10)"
      ],
      "execution_count": null,
      "outputs": []
    },
    {
      "cell_type": "markdown",
      "metadata": {
        "id": "E4n7XaJapIy4"
      },
      "source": [
        "Display test images"
      ]
    },
    {
      "cell_type": "code",
      "metadata": {
        "id": "Ns_kfxpMc2Tp"
      },
      "source": [
        "images = []\n",
        "for nr, name in enumerate(image_names, start=1):\n",
        "  images.append(media.read_image(base_url + name))\n",
        "  \n",
        "media.show_images(images, columns=3, height=300)"
      ],
      "execution_count": null,
      "outputs": []
    },
    {
      "cell_type": "markdown",
      "metadata": {
        "id": "qPjGawDH3Ho9"
      },
      "source": [
        "Prepare images for KMeans algorithm"
      ]
    },
    {
      "cell_type": "code",
      "metadata": {
        "id": "p3DMdzDU4xcc"
      },
      "source": [
        "images = []\n",
        "for nr, name in enumerate(image_names, start=1):\n",
        "    image = media.read_image(base_url + name)\n",
        "    # resize images to same dimension and reshape for kmeans algorithm\n",
        "    image = media.resize_image(image,(1200, 1575))\n",
        "    image_np = np.array(image).reshape(1,-1)\n",
        "    images.append(image_np[0])\n",
        "# stack all images together\n",
        "images_stacked = np.vstack(images)\n",
        "\n",
        "# Principal component analysis for faster computation\n",
        "pca = PCA(6)\n",
        "converted_data = pca.fit_transform(images_stacked)\n",
        "\n",
        "# Run KMeans algorithm with exact 3 clusters to find  \n",
        "kmeans = KMeans(n_clusters= 3)\n",
        "kmeans.fit(converted_data)"
      ],
      "execution_count": null,
      "outputs": []
    },
    {
      "cell_type": "code",
      "metadata": {
        "id": "kS4q138U9IcO"
      },
      "source": [
        "# put classiefied images into 3 different lists so displaying is easier\n",
        "class_0, class_1, class_2 = [], [], [] \n",
        "switcher = {0: lambda x: class_0.append(x), 1: lambda x: class_1.append(x), 2: lambda x: class_2.append(x)}\n",
        "for label, name in zip(kmeans.labels_,image_names):\n",
        "    switcher[label](name)"
      ],
      "execution_count": null,
      "outputs": []
    },
    {
      "cell_type": "markdown",
      "metadata": {
        "id": "s8MZUPhp4Jzp"
      },
      "source": [
        "Plot classified images in different rows "
      ]
    },
    {
      "cell_type": "code",
      "metadata": {
        "id": "5H1pwjMa80Ok"
      },
      "source": [
        "# create figure with 3 rows and columns and get rid of box arround the plot\n",
        "columns, rows = 3, 3\n",
        "fig = plt.figure(figsize=(8, 8))\n",
        "plt.xticks(ticks =[0.5,2,3.5,4], labels=['image 1', 'image 2', 'image 3', ''])\n",
        "plt.yticks(ticks = [0.5,1.5,2.5,3], labels= ['class 1', 'class 2', 'class 3', ''])\n",
        "for spine in plt.gca().spines.values():\n",
        "  spine.set_visible(False)\n",
        "\n",
        "# plot each image with respect to the belonging class\n",
        "count = 0\n",
        "for class_nr in [class_0, class_1, class_2]:\n",
        "  for image_name in class_nr:\n",
        "    count += 1\n",
        "    img = media.read_image(base_url + image_name)\n",
        "    img = media.to_rgb(img)\n",
        "    # create subplots -> each row different class\n",
        "    ax = fig.add_subplot(rows, columns, count)\n",
        "    ax.title.set_text(image_name)\n",
        "    # get rid of boxes in subplots\n",
        "    frame1 = plt.gca()\n",
        "    frame1.axes.get_xaxis().set_visible(False)\n",
        "    frame1.axes.get_yaxis().set_visible(False)\n",
        "    # plot subplot\n",
        "    plt.imshow(img)\n",
        "  # distinguish rows for different classes \n",
        "  if not (count % 3 == 0):\n",
        "    count += (count % 3 - 1)\n",
        "\n",
        "plt.show()"
      ],
      "execution_count": null,
      "outputs": []
    }
  ]
}